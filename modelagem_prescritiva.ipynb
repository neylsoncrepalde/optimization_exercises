{
  "nbformat": 4,
  "nbformat_minor": 0,
  "metadata": {
    "colab": {
      "name": "modelagem_prescritiva.ipynb",
      "provenance": [],
      "authorship_tag": "ABX9TyMWAbP6eapSTM0ktsBaKWvh",
      "include_colab_link": true
    },
    "kernelspec": {
      "name": "python3",
      "display_name": "Python 3"
    }
  },
  "cells": [
    {
      "cell_type": "markdown",
      "metadata": {
        "id": "view-in-github",
        "colab_type": "text"
      },
      "source": [
        "<a href=\"https://colab.research.google.com/github/neylsoncrepalde/optimization_exercises/blob/main/modelagem_prescritiva.ipynb\" target=\"_parent\"><img src=\"https://colab.research.google.com/assets/colab-badge.svg\" alt=\"Open In Colab\"/></a>"
      ]
    },
    {
      "cell_type": "markdown",
      "metadata": {
        "id": "ZAid42p1HPvT"
      },
      "source": [
        "# Modelagem Prescritiva\n",
        "\n",
        "Curso ministrado pelo prof. **Claudio Lucio** na **A3Data** em 08-12-2020.\n",
        "\n",
        "## Retomada histórica\n",
        "\n",
        "- Desenvolvimento de 2 problemas insolúveis na matemática por George Dantzig, então aluno de doutorado. \n",
        "- Dantzig desenvolveu o algoritmo *simplex*.\n",
        "\n",
        "## Quiz - Rota de entrega"
      ]
    },
    {
      "cell_type": "code",
      "metadata": {
        "colab": {
          "base_uri": "https://localhost:8080/"
        },
        "id": "KyRyAg4MHIjK",
        "outputId": "2b0491b3-3bc9-409b-ebe1-590006ac89ea"
      },
      "source": [
        "60 + 80 + 35 + 70"
      ],
      "execution_count": 1,
      "outputs": [
        {
          "output_type": "execute_result",
          "data": {
            "text/plain": [
              "245"
            ]
          },
          "metadata": {
            "tags": []
          },
          "execution_count": 1
        }
      ]
    },
    {
      "cell_type": "code",
      "metadata": {
        "colab": {
          "base_uri": "https://localhost:8080/"
        },
        "id": "OnLQmSFoRRnj",
        "outputId": "6d18478a-6e45-430c-90cd-07ae6588dcaa"
      },
      "source": [
        "105 + 35 + 115 + 60"
      ],
      "execution_count": 2,
      "outputs": [
        {
          "output_type": "execute_result",
          "data": {
            "text/plain": [
              "315"
            ]
          },
          "metadata": {
            "tags": []
          },
          "execution_count": 2
        }
      ]
    },
    {
      "cell_type": "code",
      "metadata": {
        "colab": {
          "base_uri": "https://localhost:8080/"
        },
        "id": "x8UlLFnVRXRJ",
        "outputId": "bcfa97e7-84e9-412f-c5c3-a861d2475acb"
      },
      "source": [
        "70 + 115 + 80 + 105"
      ],
      "execution_count": 3,
      "outputs": [
        {
          "output_type": "execute_result",
          "data": {
            "text/plain": [
              "370"
            ]
          },
          "metadata": {
            "tags": []
          },
          "execution_count": 3
        }
      ]
    },
    {
      "cell_type": "markdown",
      "metadata": {
        "id": "FgnWQJv8TU0n"
      },
      "source": [
        "## Problema da Fábrica de Automóveis\n",
        "\n",
        "**Seucarro Inc.** deve produzir 1000 automóveis Beta. A empresa tem 4 fábricas. Devido a diferenças na mão de obra e avanços tecnológicos, as plantas diferem no **custo de produção unitário** de cada carro.\n",
        "\n",
        "Elas também utilizam diferentes quantidades de *matéria-prima* e *mão de obra*. O custo de operação, o *tempo* necessário de mão de obra e o custo de matéria prima para produzir uma unidade de cada carro em cada uma das fábricas estão evidenciados na tabela a seguir.\n",
        "\n",
        "| Fábrica | Custo Unitário em R$1.000,00 | Mão de Obra (horas de fabricação) | Matéria-prima (unidades de material) |\n",
        "|---------|------------------------------|-----------------------------------|--------------------------------------|\n",
        "| 1       | 15                           | 2                                 | 3                                    |\n",
        "| 2       | 10                           | 3                                 | 4                                    |\n",
        "| 3       | 9                            | 4                                 | 5                                    |\n",
        "| 4       | 7                            | 5                                 | 6                                    |\n",
        "\n",
        "\n",
        "- Existem 3200 horas de mão de obra no total;\n",
        "- Existem 4000 unidades de material que podem ser alocados às quatro fábricas;\n",
        "- Um acordo trabalhista assinado requer que pelo menos 250 carros sejam produzidos na fábrica 3.\n",
        "\n",
        "**Decisão**: Como produzir os 1000 carros com o menor custo?\n",
        "\n"
      ]
    },
    {
      "cell_type": "code",
      "metadata": {
        "colab": {
          "base_uri": "https://localhost:8080/",
          "height": 306
        },
        "id": "l-EaDqXqRl3g",
        "outputId": "2cd406d0-866a-4a9a-fbf7-e6185f0f42a2"
      },
      "source": [
        "!pip install ortools\n",
        "from ortools.linear_solver import pywraplp"
      ],
      "execution_count": 5,
      "outputs": [
        {
          "output_type": "stream",
          "text": [
            "Collecting ortools\n",
            "\u001b[?25l  Downloading https://files.pythonhosted.org/packages/be/06/70475cc058328217739dff257a85fe2e90ecdbc1068d8fe52ad6f30fc53b/ortools-8.0.8283-cp36-cp36m-manylinux1_x86_64.whl (13.7MB)\n",
            "\u001b[K     |████████████████████████████████| 13.7MB 291kB/s \n",
            "\u001b[?25hRequirement already satisfied: six>=1.10 in /usr/local/lib/python3.6/dist-packages (from ortools) (1.15.0)\n",
            "Collecting protobuf>=3.13.0\n",
            "\u001b[?25l  Downloading https://files.pythonhosted.org/packages/fe/fd/247ef25f5ec5f9acecfbc98ca3c6aaf66716cf52509aca9a93583d410493/protobuf-3.14.0-cp36-cp36m-manylinux1_x86_64.whl (1.0MB)\n",
            "\u001b[K     |████████████████████████████████| 1.0MB 41.4MB/s \n",
            "\u001b[?25hInstalling collected packages: protobuf, ortools\n",
            "  Found existing installation: protobuf 3.12.4\n",
            "    Uninstalling protobuf-3.12.4:\n",
            "      Successfully uninstalled protobuf-3.12.4\n",
            "Successfully installed ortools-8.0.8283 protobuf-3.14.0\n"
          ],
          "name": "stdout"
        },
        {
          "output_type": "display_data",
          "data": {
            "application/vnd.colab-display-data+json": {
              "pip_warning": {
                "packages": [
                  "google"
                ]
              }
            }
          },
          "metadata": {
            "tags": []
          }
        }
      ]
    },
    {
      "cell_type": "code",
      "metadata": {
        "id": "hgdhEw9nZTwH"
      },
      "source": [
        "#Número de fábricas\n",
        "num_fabricas = 4\n",
        "\n",
        "#Total de carros a serem produzidos\n",
        "total_carros = 1000\n",
        "\n",
        "#Custo de produção por carro em cada fábrica\n",
        "Custo_unitario = [15 ,10, 9, 7 ]\n",
        "\n",
        "#Horas de mão de obra necessárias por carro em cada fábrica\n",
        "Horas_mao_obra = [2 ,3, 4, 5 ]\n",
        "\n",
        "#Materia prima necessária por carro em cada fábrica\n",
        "Materia_prima = [3 ,4, 5, 6 ]\n"
      ],
      "execution_count": 6,
      "outputs": []
    },
    {
      "cell_type": "code",
      "metadata": {
        "colab": {
          "base_uri": "https://localhost:8080/"
        },
        "id": "g2ZySGJmZaqs",
        "outputId": "84f46df3-0b40-417b-840b-5bebce00d025"
      },
      "source": [
        "# Criando o nosso modelo\n",
        "modelo_fabrica = pywraplp.Solver('Fabrica de automoveis',pywraplp.Solver.CBC_MIXED_INTEGER_PROGRAMMING)\n",
        "\n",
        "#Criando as variáveis de decisão\n",
        "fabrica = {}\n",
        "for i in range(num_fabricas):\n",
        "    fabrica[i] = modelo_fabrica.IntVar(0, total_carros, 'fabrica[%i]' % (i))\n",
        "print(fabrica)\n",
        "\n",
        "#Criando a nossa função objetivo\n",
        "custo_producao =  modelo_fabrica.Sum([Custo_unitario[i] * fabrica[i]   for i in range(num_fabricas)])    \n",
        "\n",
        "#Atribuindo a minimização\n",
        "objetivo = modelo_fabrica.Minimize(custo_producao)\n",
        "\n",
        "\n",
        "### Restrições para o processo produtivo\n",
        "\n",
        "\n",
        "#Na Fabrica 3 temos que produzir pelo menos 250 carros \n",
        "modelo_fabrica.Add(fabrica[2] >=250)\n",
        "\n",
        "#Temos no total disponível 3200 horas de mão de obra como componente de custo \n",
        "modelo_fabrica.Add(modelo_fabrica.Sum([Horas_mao_obra[i] * fabrica[i]   for i in range(num_fabricas)])  <= 3200)\n",
        "\n",
        "#Temos no total disponível 4000 unidade de material \n",
        "modelo_fabrica.Add(modelo_fabrica.Sum([Materia_prima[i] * fabrica[i]   for i in range(num_fabricas)])  <= 4000)\n",
        "\n",
        "#Número máximo de carros a ser construído = 1000\n",
        "modelo_fabrica.Add(modelo_fabrica.Sum([ fabrica[i]   for i in range(num_fabricas)])  == 1000)\n"
      ],
      "execution_count": 12,
      "outputs": [
        {
          "output_type": "stream",
          "text": [
            "{0: fabrica[0], 1: fabrica[1], 2: fabrica[2], 3: fabrica[3]}\n"
          ],
          "name": "stdout"
        },
        {
          "output_type": "execute_result",
          "data": {
            "text/plain": [
              "<ortools.linear_solver.pywraplp.Constraint; proxy of <Swig Object of type 'operations_research::MPConstraint *' at 0x7f51b55eb450> >"
            ]
          },
          "metadata": {
            "tags": []
          },
          "execution_count": 12
        }
      ]
    },
    {
      "cell_type": "code",
      "metadata": {
        "colab": {
          "base_uri": "https://localhost:8080/"
        },
        "id": "_Gj88X1kcYuP",
        "outputId": "b95e33bd-b168-4d43-9f29-588cab52fab2"
      },
      "source": [
        "#Executando o modelo\n",
        "status = modelo_fabrica.Solve()\n",
        "print(\"Ótimo: \",status == modelo_fabrica.OPTIMAL)\n",
        "print(\"Inviável: \",status == modelo_fabrica.INFEASIBLE)\n",
        "print(\"Viável:\",status == modelo_fabrica.FEASIBLE)\n"
      ],
      "execution_count": 13,
      "outputs": [
        {
          "output_type": "stream",
          "text": [
            "Ótimo:  True\n",
            "Inviável:  False\n",
            "Viável: False\n"
          ],
          "name": "stdout"
        }
      ]
    },
    {
      "cell_type": "markdown",
      "metadata": {
        "id": "Mw7ZH2bccaq0"
      },
      "source": [
        "## Avaliando os resultados"
      ]
    },
    {
      "cell_type": "code",
      "metadata": {
        "colab": {
          "base_uri": "https://localhost:8080/"
        },
        "id": "_YZMIEctcZdn",
        "outputId": "a7b4ecff-07fc-4910-cbb8-dc0510cf2f45"
      },
      "source": [
        "print('Custo mínimo para os 1000 carros serem fabricadas: ', int(modelo_fabrica.Objective().Value()))\n",
        "\n",
        "for i in range(num_fabricas):\n",
        "    print('fabrica[%i]' % (i), int(fabrica[i].SolutionValue()))\n"
      ],
      "execution_count": 14,
      "outputs": [
        {
          "output_type": "stream",
          "text": [
            "Custo mínimo para os 1000 carros serem fabricadas:  11000\n",
            "fabrica[0] 250\n",
            "fabrica[1] 500\n",
            "fabrica[2] 250\n",
            "fabrica[3] 0\n"
          ],
          "name": "stdout"
        }
      ]
    },
    {
      "cell_type": "markdown",
      "metadata": {
        "id": "V1LD38SXmP1I"
      },
      "source": [
        "# Mais um exemplo\n",
        "\n",
        "A **HotsM** é uma empresa de produtos digitais e com uma gestão financeira muito profissional. Para os próximos 3 anos,m estão previstos um lucro líquido de 200, 250 e 150 milhões de reais.\n",
        "\n",
        "Eles possuem vários projetos de investimento (participações em outras empresas) e precisam definir quanto e quais projetos tem chance de trazer maior retorno. Par isto, foi calculado o VPL (Valor presente líquido) de cada projeto, veja a tabela com os os dados levantados.\n",
        "\n",
        "| Projeto de Investimento | Investimentos ano 1 | Investimentos ano 2 | Investimentos ano 3 | VPL do investimento |\n",
        "|-------------------------|---------------------|---------------------|---------------------|---------------------|\n",
        "| Projeto 1               | 12                  | 34                  | 12                  | 20                  |\n",
        "| Projeto 2               | 54                  | 94                  | 67                  | 15                  |\n",
        "| Projeto 3               | 65                  | 28                  | 49                  | 34                  |\n",
        "| Projeto 4               | 38                  | 0                   | 8                   | 17                  |\n",
        "| Projeto 5               | 52                  | 21                  | 42                  | 56                  |\n",
        "| Projeto 6               | 98                  | 73                  | 25                  | 76                  |\n",
        "| Projeto 7               | 15                  | 48                  | 53                  | 29                  |\n",
        "\n",
        "O critério é que caso ela opte por algum projeto eles devem manter a proporcionalidade de aplicações de durante todos os anos (para o ano 1, ano 2 e ano 3 ele deve manter 10% de alocação de investimento em todos os anos.\n",
        "\n",
        "**A questão é**: qual percentual de cada projeto devo investir para obter o maior VPL?"
      ]
    },
    {
      "cell_type": "code",
      "metadata": {
        "id": "uiZS8h4Iewqv"
      },
      "source": [
        "import numpy as np"
      ],
      "execution_count": 16,
      "outputs": []
    },
    {
      "cell_type": "code",
      "metadata": {
        "id": "s8AmVqCynkal"
      },
      "source": [
        "#Número de projetos\n",
        "num_projetos = 7\n",
        "\n",
        "#Valor total dos projetos por ano\n",
        "cronograma_desembolso = np.array([[12, 34, 12],\n",
        "                                  [54, 94, 67],\n",
        "                                  [65, 28, 49],\n",
        "                                  [38, 0, 8],\n",
        "                                  [52, 21, 42],\n",
        "                                  [98, 73, 25],\n",
        "                                  [15, 48, 53]])\n",
        "\n",
        "#VPL dos projetos \n",
        "VPL_Projeto = np.array([20, 15, 34, 17, 56, 76, 29])\n",
        "\n",
        "#Valor máximo de desembolso por ano\n",
        "Previsto_desembolso = np.array([200 ,250, 150])"
      ],
      "execution_count": 17,
      "outputs": []
    },
    {
      "cell_type": "markdown",
      "metadata": {
        "id": "9Jl2n0LnojWC"
      },
      "source": [
        "## Criando o modelo"
      ]
    },
    {
      "cell_type": "code",
      "metadata": {
        "colab": {
          "base_uri": "https://localhost:8080/"
        },
        "id": "y7imyH_2oiW0",
        "outputId": "31a1b83d-775e-4cbc-b90d-e0c6982edaf0"
      },
      "source": [
        "# Criando o modelo de investimento\n",
        "modelo_projetos_inv = pywraplp.Solver('Investimentos HotsM',pywraplp.Solver.GLOP_LINEAR_PROGRAMMING)\n",
        "\n",
        "#Criando as variáveis de decisão\n",
        "projetos = {}\n",
        "for i in range(num_projetos):\n",
        "    projetos[i] = modelo_projetos_inv.NumVar(0, 1, 'projetos[%i]' % (i))\n",
        "print(projetos)\n",
        "\n",
        "#Criando a nossa função objetivo\n",
        "total_VPL =  modelo_projetos_inv.Sum([VPL_Projeto[i] * projetos[i]   for i in range(num_projetos)])    \n",
        "\n",
        "#Atribuindo a maximização\n",
        "objetivo = modelo_projetos_inv.Maximize(total_VPL)\n",
        "\n",
        "\n",
        "\n",
        "#Restrições para os cronogramas de desembolso e projetos\n",
        "\n",
        "#Restrição do montante para o Ano 1\n",
        "modelo_projetos_inv.Add(modelo_projetos_inv.Sum(cronograma_desembolso[i,0] *projetos[i]  for i in range(num_projetos)) <= Previsto_desembolso[0])\n",
        "\n",
        "#Restrição do montante para o Ano 2\n",
        "modelo_projetos_inv.Add(modelo_projetos_inv.Sum(cronograma_desembolso[i,1] *projetos[i]  for i in range(num_projetos)) <= Previsto_desembolso[1])\n",
        "\n",
        "#Restrição do montante para o Ano 3\n",
        "modelo_projetos_inv.Add(modelo_projetos_inv.Sum(cronograma_desembolso[i,2] *projetos[i]  for i in range(num_projetos)) <= Previsto_desembolso[2])\n",
        "\n"
      ],
      "execution_count": 24,
      "outputs": [
        {
          "output_type": "stream",
          "text": [
            "{0: projetos[0], 1: projetos[1], 2: projetos[2], 3: projetos[3], 4: projetos[4], 5: projetos[5], 6: projetos[6]}\n"
          ],
          "name": "stdout"
        },
        {
          "output_type": "execute_result",
          "data": {
            "text/plain": [
              "<ortools.linear_solver.pywraplp.Constraint; proxy of <Swig Object of type 'operations_research::MPConstraint *' at 0x7f51b2829810> >"
            ]
          },
          "metadata": {
            "tags": []
          },
          "execution_count": 24
        }
      ]
    },
    {
      "cell_type": "markdown",
      "metadata": {
        "id": "rcWogqGCq5fV"
      },
      "source": [
        "## Executando o modelo"
      ]
    },
    {
      "cell_type": "code",
      "metadata": {
        "colab": {
          "base_uri": "https://localhost:8080/"
        },
        "id": "FrOknJ8oq1Af",
        "outputId": "f361e23b-b3d5-468d-d3f3-0068a75cae64"
      },
      "source": [
        "#Executando o modelo\n",
        "modelo_projetos_inv.EnableOutput = True\n",
        "modelo_projetos_inv.Solve()\n",
        "\n",
        "print('Tempo: ', modelo_projetos_inv.WallTime(), 'ms')\n",
        "print('Iterações: ', modelo_projetos_inv.iterations())"
      ],
      "execution_count": 25,
      "outputs": [
        {
          "output_type": "stream",
          "text": [
            "Tempo:  2804 ms\n",
            "Iterações:  8\n"
          ],
          "name": "stdout"
        }
      ]
    },
    {
      "cell_type": "markdown",
      "metadata": {
        "id": "6YScha6tq8DS"
      },
      "source": [
        "## Avaliando os resultados"
      ]
    },
    {
      "cell_type": "code",
      "metadata": {
        "colab": {
          "base_uri": "https://localhost:8080/"
        },
        "id": "iTPrIJAsq9AH",
        "outputId": "3afada46-a7a9-4253-9397-9ef278116cc4"
      },
      "source": [
        "print('Valor máximo do VPL a ser obtido: ', round(modelo_projetos_inv.Objective().Value(),2))\n",
        "\n",
        "for i in range(num_projetos):\n",
        "    print('Projeto %i:' % (i+1), round(projetos[i].SolutionValue() *100,2),'%')"
      ],
      "execution_count": 26,
      "outputs": [
        {
          "output_type": "stream",
          "text": [
            "Valor máximo do VPL a ser obtido:  193.03\n",
            "Projeto 1: 100.0 %\n",
            "Projeto 2: 0.0 %\n",
            "Projeto 3: 35.38 %\n",
            "Projeto 4: 0.0 %\n",
            "Projeto 5: 100.0 %\n",
            "Projeto 6: 100.0 %\n",
            "Projeto 7: 100.0 %\n"
          ],
          "name": "stdout"
        }
      ]
    },
    {
      "cell_type": "markdown",
      "metadata": {
        "id": "jVrek-zhvres"
      },
      "source": [
        "# Mais um exemplo\n",
        "\n",
        "Suponha que você foi contratado como cientista de dados da **757 Mobility Startup** - serviço de assinatura de mobilidade e locomoção.\n",
        "\n",
        "O primeiro problema para resolver é: dado uma região geográfica (um bairro, por exemplo), você deve calcular em tempo real:\n",
        "- Número de chamadas de clientes no aplicativo\n",
        "- Número de motoristas com latitude e longitude dentro da região\n",
        "- Velocidade média de deslocamento no horário dentro da região\n",
        "- Atribuir as chamadas para os motoristas de forma que o nível de serviço seja atendido para todos os clientes\n",
        "- Resolver o problema para reduzir o tempo de espera de todos os envolvidos"
      ]
    },
    {
      "cell_type": "markdown",
      "metadata": {
        "id": "KmbAkAKCwi-u"
      },
      "source": [
        "## Organizando os dados\n"
      ]
    },
    {
      "cell_type": "code",
      "metadata": {
        "id": "OEcmS92krzHn"
      },
      "source": [
        "#Tempo calculado a partir da ultima atualização de tráfego e posição dos motoristas\n",
        "Tempo_Previsto = np.array([[90, 76, 75, 70],\n",
        "                           [35, 85, 55, 65],\n",
        "                           [125, 95, 90, 105],\n",
        "                           [45, 110, 95, 115],\n",
        "                           [60, 105, 80, 75],\n",
        "                           [45, 65, 110, 95]])\n",
        "\n",
        "\"\"\"Tempo_Previsto = np.array([[90, 76, 75, 70],\n",
        "                           [35, 85, 55, 65],\n",
        "                           [125, 95, 90, 105],\n",
        "                           [45, 110, 95, 115],\n",
        "                           [60, 105, 80, 75],\n",
        "                           [45, 65, 110, 95]])\n",
        "\"\"\"\n",
        "\n",
        "#Número de clientes que solicitaram o serviço no bairro naquele momento\n",
        "numero_clientes = Tempo_Previsto.shape[0]\n",
        "numero_motoristas = Tempo_Previsto.shape[1]\n"
      ],
      "execution_count": 30,
      "outputs": []
    },
    {
      "cell_type": "markdown",
      "metadata": {
        "id": "ML1OaxyWwsPF"
      },
      "source": [
        "## Criando o modelo"
      ]
    },
    {
      "cell_type": "code",
      "metadata": {
        "id": "BCm052M-wtEs"
      },
      "source": [
        "# Criando o modelo de atendimento motoristas e clientes\n",
        "modelo_atendimento = pywraplp.Solver('Modelo de atendimento',pywraplp.Solver.CBC_MIXED_INTEGER_PROGRAMMING)\n",
        "\n",
        "\n",
        "#Criando as variáveis de decisão\n",
        "atendimento = {}\n",
        "\n",
        "for i in range(numero_clientes):\n",
        "    for j in range(numero_motoristas):\n",
        "        atendimento[i, j] = modelo_atendimento.BoolVar('atendimento[%i,%i]' % (i, j))\n",
        "\n",
        "#Criando a nossa função objetivo e atribuindo a minimizaçãão\n",
        "modelo_atendimento.Minimize(modelo_atendimento.Sum(Tempo_Previsto[i,j] * atendimento[i,j] for i in range(numero_clientes) for j in range(numero_motoristas)))\n",
        "\n",
        "\n",
        "#Restrições para os atendimentos dos clientes e dos motoristas\n",
        "\n",
        "\n",
        "# Cada cliente deve ser atendido por apenas 1 motorista .\n",
        "if numero_motoristas < numero_clientes:\n",
        "    for i in range(numero_clientes):\n",
        "        modelo_atendimento.Add(modelo_atendimento.Sum([atendimento[i, j] for j in range(numero_motoristas)]) <= 1)\n",
        "else:\n",
        "    for i in range(numero_clientes):\n",
        "        modelo_atendimento.Add(modelo_atendimento.Sum([atendimento[i, j] for j in range(numero_motoristas)]) == 1)\n",
        "    \n",
        "\n",
        "# Se o número de clientes for maior que o número de motoristas vamos garantir que os atendimentos mais rápidos aconteçam.\n",
        "if numero_motoristas < numero_clientes:\n",
        "    modelo_atendimento.Add(modelo_atendimento.Sum([atendimento[i, j] for i in range(numero_clientes) for j in range(numero_motoristas)]) >= numero_motoristas)\n",
        "\n",
        "# Cada motorista deve atender no máximo 1 pessoa naquele instante de tempo .\n",
        "for j in range(numero_motoristas):\n",
        "    modelo_atendimento.Add(modelo_atendimento.Sum([atendimento[i, j] for i in range(numero_clientes)]) <= 1)\n"
      ],
      "execution_count": 37,
      "outputs": []
    },
    {
      "cell_type": "markdown",
      "metadata": {
        "id": "1WLEhujJx72y"
      },
      "source": [
        "## Executando o modelo"
      ]
    },
    {
      "cell_type": "code",
      "metadata": {
        "colab": {
          "base_uri": "https://localhost:8080/"
        },
        "id": "Z2fK4eFQx9qs",
        "outputId": "8d016a63-3dc4-404d-897e-40006782f3a4"
      },
      "source": [
        "#Executando o modelo\n",
        "modelo_atendimento.Solve()\n",
        "\n",
        "print('Tempo: ', modelo_atendimento.WallTime(), 'ms')\n",
        "print('Iterações: ', modelo_atendimento.iterations())\n",
        "print('Ótimo: ', modelo_atendimento.OPTIMAL)\n",
        "print('Factível: ', modelo_atendimento.FEASIBLE)\n",
        "print('Infactível: ', modelo_atendimento.INFEASIBLE)"
      ],
      "execution_count": 38,
      "outputs": [
        {
          "output_type": "stream",
          "text": [
            "Tempo:  1806 ms\n",
            "Iterações:  0\n",
            "Ótimo:  0\n",
            "Factível:  1\n",
            "Infactível:  2\n"
          ],
          "name": "stdout"
        }
      ]
    },
    {
      "cell_type": "markdown",
      "metadata": {
        "id": "D6BWurP5x-H2"
      },
      "source": [
        "## Avaliando o modelo"
      ]
    },
    {
      "cell_type": "code",
      "metadata": {
        "colab": {
          "base_uri": "https://localhost:8080/"
        },
        "id": "9U6PSwl8x-9c",
        "outputId": "50a83c38-ed27-44af-bcdc-cab8c97550ed"
      },
      "source": [
        "print('Tempo total para os atendimentos: ', round(modelo_atendimento.Objective().Value(),2))\n",
        "\n",
        "print()\n",
        "for i in range(numero_clientes):\n",
        "    for j in range(numero_motoristas):\n",
        "        #print(atendimento[i, j].solution_value() )\n",
        "        if atendimento[i, j].solution_value() > 0:\n",
        "            print('Cliente %d será atendido pelo motorista %d.  Tempo previsto = %d' % (i+1,j+1,Tempo_Previsto[i,j]))\n",
        "print()\n"
      ],
      "execution_count": 39,
      "outputs": [
        {
          "output_type": "stream",
          "text": [
            "Tempo total para os atendimentos:  235.0\n",
            "\n",
            "Cliente 1 será atendido pelo motorista 4.  Tempo previsto = 70\n",
            "Cliente 2 será atendido pelo motorista 3.  Tempo previsto = 55\n",
            "Cliente 4 será atendido pelo motorista 1.  Tempo previsto = 45\n",
            "Cliente 6 será atendido pelo motorista 2.  Tempo previsto = 65\n",
            "\n"
          ],
          "name": "stdout"
        }
      ]
    },
    {
      "cell_type": "markdown",
      "metadata": {
        "id": "xVBqJOAU33oR"
      },
      "source": [
        "# Desafio\n",
        "\n",
        "Você terminou de implantar o algoritmo de recomendação de produtos para os perfis de clientes na **W2B - E-Commerce**. Você tem certeza da qualidade das recomendações. O algoritmo está com um bom grau de acurácia e precisão. mas você foi chamado para uma reunião com o gerente de estoque do E-Commerce:\n",
        "- Problema o algoritmo não leva em consideração os níveis de estoque, na hora de fazer a recomendação.\n",
        "- O bot de atendimento já registrou muitos clientes dizendo que receberam a recomendação mas \"nunca tem o produto no estoque\"\n",
        "\n",
        "Sua missão agora é resolver este problema:\n",
        "- Manter a acurácia das recomendações: o cross selling está funcionando;\n",
        "- Resolver o problema da insatisfação dos clientes e recomendar o que tem estoque para uma faixa menor de clientes que são potenciais para compra do produto.\n",
        "\n",
        "Na tabela há uma saída do algoritmo de recomendação para um instante no tempo.\n",
        "\n",
        "| Clientes  | Produto 1 (score) | Produto 2 (score) | Produto 3 (score) | Produto 4 (score) |\n",
        "|-----------|-------------------|-------------------|-------------------|-------------------|\n",
        "| Cliente 1 | 11                | 4                 | 3                 | 9                 |\n",
        "| Cliente 2 | 3                 | 7                 | 2                 | 3                 |\n",
        "| Cliente 3 | 4                 | 9                 | 6                 | 5                 |\n",
        "| Cliente 4 | 5                 | 4                 | 7                 | 7                 |\n",
        "| Cliente N | ...               | ...               | ...               | ...               |\n",
        "\n",
        "- Para cada produto você também terá a quantidade em estoque, e este valor significa o número de clientes máximo apra o qual você deve recomendar o produto\n",
        "- Você deve manter a qualidade do seu algoritmo, mas a sua recomendação agora deve respeitar o estoque, mas de forma que o score geral seja o máximo possível.\n",
        "\n",
        "\n",
        "# Algoritmo de Recomendação com restrição de Estoque"
      ]
    },
    {
      "cell_type": "code",
      "metadata": {
        "colab": {
          "base_uri": "https://localhost:8080/"
        },
        "id": "Ff6MPjn32Azh",
        "outputId": "66833f7f-73ef-4e32-f3d9-383486ea51d0"
      },
      "source": [
        "#Matriz dos escore de clientes \n",
        "todos_escores = np.array([ [13,5,10,7,11,1,12,5],\n",
        "                            [8,7,1,11,11,0,0,1],\n",
        "                            [4,6,9,8,11,6,7,11],\n",
        "                            [13,5,11,1,7,10,11,5],\n",
        "                            [11,9,5,1,6,3,1,3],\n",
        "                            [9,11,8,14,7,5,6,1],\n",
        "                            [9,2,5,4,9,0,10,1],\n",
        "                            [14,2,13,3,10,6,11,10],\n",
        "                            [6,0,14,5,11,5,1,0],\n",
        "                            [10,5,0,14,5,9,6,10],       \n",
        "                            [12,6,11,7,0,13,3,5],\n",
        "                            [12,7,4,4,13,10,12,14],\n",
        "                            [9,5,7,1,8,5,9,13],\n",
        "                            [11,9,5,6,2,1,1,2],\n",
        "                            [10,1,0,3,13,12,14,7],\n",
        "                            [3,4,4,0,5,8,1,11],\n",
        "                            [0,12,2,14,10,14,7,5],\n",
        "                            [10,12,14,4,4,1,9,11],     \n",
        "                            [2,6,1,10,11,8,4,4],\n",
        "                            [11,10,10,6,4,6,5,3]])\n",
        "\n",
        "\n",
        "#Número de clientes e produtos no instante t\n",
        "numero_clientes = todos_escores.shape[0]\n",
        "numero_produtos = todos_escores.shape[1]\n",
        "\n",
        "print(f\"Número de clientes: {numero_clientes}\")\n",
        "print(f\"Número de produtos: {numero_produtos}\")\n",
        "\n",
        "#Limites do estoque por produto\n",
        "Limites_estoque = np.array([2, 1, 3, 0, 10, 4, 2, 4])\n",
        "#Para simplificar, considere que temos estoque para fazer recomendações para todos os clientes"
      ],
      "execution_count": 41,
      "outputs": [
        {
          "output_type": "stream",
          "text": [
            "Número de clientes: 20\n",
            "Número de produtos: 8\n"
          ],
          "name": "stdout"
        }
      ]
    },
    {
      "cell_type": "markdown",
      "metadata": {
        "id": "FOehq3jJ6XqE"
      },
      "source": [
        "# Criando o modelo"
      ]
    },
    {
      "cell_type": "code",
      "metadata": {
        "id": "T0dvBo9k5tlZ"
      },
      "source": [
        "# Criando o modelo de investimento\n",
        "modelo_recomendacao_estoque = pywraplp.Solver('Modelo para maximizar a recomendação no estoque',pywraplp.Solver.CBC_MIXED_INTEGER_PROGRAMMING)\n",
        "\n",
        "\n",
        "# ..."
      ],
      "execution_count": 42,
      "outputs": []
    },
    {
      "cell_type": "markdown",
      "metadata": {
        "id": "tgb6IDBh6bB1"
      },
      "source": [
        "# Executando o modelo"
      ]
    },
    {
      "cell_type": "code",
      "metadata": {
        "id": "mYghJFlG6aNt"
      },
      "source": [
        ""
      ],
      "execution_count": null,
      "outputs": []
    },
    {
      "cell_type": "markdown",
      "metadata": {
        "id": "oR3tho_t6dVd"
      },
      "source": [
        "# Avaliando o modelo"
      ]
    },
    {
      "cell_type": "code",
      "metadata": {
        "id": "RLX2ugSM6eMu"
      },
      "source": [
        ""
      ],
      "execution_count": null,
      "outputs": []
    },
    {
      "cell_type": "markdown",
      "metadata": {
        "id": "mEoFusQK6ns8"
      },
      "source": [
        "# Anotações finais - Faça você mesmo\n",
        "\n",
        "Quando devo aplicar análise prescritiva:\n",
        "\n",
        "- Tarefas muito repetitivas\n",
        "- Decisões PRECISAM ser tomadas num tempo muito curto\n",
        "- Atividades passíveis de muitos erros\n",
        "- Atividades laboriosas e tediosas\n",
        "- Possuem um largo número de opções de escolha\n",
        "- Impossível achar  a melhor opção manualmente\n",
        "- Envolver várias áreas da empresa"
      ]
    }
  ]
}